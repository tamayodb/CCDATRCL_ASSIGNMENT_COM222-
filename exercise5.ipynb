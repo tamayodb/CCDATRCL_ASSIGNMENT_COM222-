{
  "cells": [
    {
      "cell_type": "markdown",
      "metadata": {
        "id": "view-in-github",
        "colab_type": "text"
      },
      "source": [
        "<a href=\"https://colab.research.google.com/github/tamayodb/CCDATRCL_ASSIGNMENT_COM222-/blob/main/exercise5.ipynb\" target=\"_parent\"><img src=\"https://colab.research.google.com/assets/colab-badge.svg\" alt=\"Open In Colab\"/></a>"
      ]
    },
    {
      "cell_type": "markdown",
      "metadata": {
        "id": "vFk5KQJLixeX"
      },
      "source": [
        "# Exercise 5"
      ]
    },
    {
      "cell_type": "markdown",
      "metadata": {
        "id": "xyb7SSPYixef"
      },
      "source": [
        "#### 1. Create a dictionary of your 10 favorite songs."
      ]
    },
    {
      "cell_type": "markdown",
      "metadata": {
        "id": "_GOEkH52ixeg"
      },
      "source": [
        "Example:\n",
        "\n",
        "|KEY|VALUE|\n",
        "|---|---|\n",
        "|001|My Love|\n",
        "|002|Like a rose|"
      ]
    },
    {
      "cell_type": "code",
      "execution_count": null,
      "metadata": {
        "id": "zfQ8mhnPixei",
        "colab": {
          "base_uri": "https://localhost:8080/"
        },
        "outputId": "d0baed05-3e6c-4876-9574-d2be857ee451"
      },
      "outputs": [
        {
          "output_type": "stream",
          "name": "stdout",
          "text": [
            "{'001': 'Burnout', '002': 'Abot Kamay', '003': 'One Look', '004': 'Tensionado', '005': 'Yakap sa Dilim', '006': 'Ilaw sa Daan', '007': 'Prom', '008': 'Manila', '009': 'Languyin', '010': 'Everybody Talks'}\n"
          ]
        }
      ],
      "source": [
        "song = {\n",
        "    \"001\" : \"Burnout\",\n",
        "    \"002\" : \"Abot Kamay\",\n",
        "    \"003\" : \"One Look\",\n",
        "    \"004\" : \"Tensionado\",\n",
        "    \"005\" : \"Yakap sa Dilim\",\n",
        "    \"006\" : \"Ilaw sa Daan\",\n",
        "    \"007\" : \"Prom\",\n",
        "    \"008\" : \"Manila\",\n",
        "    \"009\" : \"Languyin\",\n",
        "    \"010\" : \"Everybody Talks\"\n",
        "}\n",
        "\n",
        "print(song)"
      ]
    },
    {
      "cell_type": "markdown",
      "metadata": {
        "id": "8nDgk5sJixek"
      },
      "source": [
        "#### 2. Loop through the dictionary by its **key** and **value**"
      ]
    },
    {
      "cell_type": "code",
      "execution_count": null,
      "metadata": {
        "id": "XpFGBKJGixel",
        "colab": {
          "base_uri": "https://localhost:8080/"
        },
        "outputId": "8e52ecf0-3c3d-40c5-f918-6fb51d95f5d9"
      },
      "outputs": [
        {
          "output_type": "stream",
          "name": "stdout",
          "text": [
            "001 Burnout\n",
            "002 Abot Kamay\n",
            "003 One Look\n",
            "004 Tensionado\n",
            "005 Yakap sa Dilim\n",
            "006 Ilaw sa Daan\n",
            "007 Prom\n",
            "008 Manila\n",
            "009 Languyin\n",
            "010 Everybody Talks\n"
          ]
        }
      ],
      "source": [
        "for x, y in song.items():\n",
        "  print(x, y)"
      ]
    },
    {
      "cell_type": "markdown",
      "metadata": {
        "id": "_NGW_b9zixem"
      },
      "source": [
        "#### 3. Add one additional song"
      ]
    },
    {
      "cell_type": "code",
      "execution_count": null,
      "metadata": {
        "id": "Xw6frEPzixen",
        "colab": {
          "base_uri": "https://localhost:8080/"
        },
        "outputId": "cb2f33ab-c504-40e5-878f-7d04e9bd5cb9"
      },
      "outputs": [
        {
          "output_type": "execute_result",
          "data": {
            "text/plain": [
              "{'001': 'Burnout',\n",
              " '002': 'Abot Kamay',\n",
              " '003': 'One Look',\n",
              " '004': 'Tensionado',\n",
              " '005': 'Yakap sa Dilim',\n",
              " '006': 'Ilaw sa Daan',\n",
              " '007': 'Prom',\n",
              " '008': 'Manila',\n",
              " '009': 'Languyin',\n",
              " '010': 'Everybody Talks',\n",
              " '011': \"Sugar, We're Going Down\"}"
            ]
          },
          "metadata": {},
          "execution_count": 3
        }
      ],
      "source": [
        "song [\"011\"] = \"Sugar, We're Going Down\"\n",
        "song"
      ]
    },
    {
      "cell_type": "markdown",
      "metadata": {
        "id": "6dQ9GOfoixeo"
      },
      "source": [
        "#### 4. Remove one song"
      ]
    },
    {
      "cell_type": "code",
      "execution_count": null,
      "metadata": {
        "id": "bcWNjnSSixeo",
        "colab": {
          "base_uri": "https://localhost:8080/"
        },
        "outputId": "6c26647d-9bb1-469a-9a63-f6df14ba5b24"
      },
      "outputs": [
        {
          "output_type": "execute_result",
          "data": {
            "text/plain": [
              "{'002': 'Abot Kamay',\n",
              " '003': 'One Look',\n",
              " '004': 'Tensionado',\n",
              " '005': 'Yakap sa Dilim',\n",
              " '006': 'Ilaw sa Daan',\n",
              " '007': 'Prom',\n",
              " '008': 'Manila',\n",
              " '009': 'Languyin',\n",
              " '010': 'Everybody Talks',\n",
              " '011': \"Sugar, We're Going Down\"}"
            ]
          },
          "metadata": {},
          "execution_count": 4
        }
      ],
      "source": [
        "song.pop(\"001\")\n",
        "song"
      ]
    },
    {
      "cell_type": "markdown",
      "metadata": {
        "id": "FDToA1ozixep"
      },
      "source": [
        "#### 5. Create a nested dictionary of your 10 favorite songs with 5 genres. Display all of the items of the nested dictionary\n",
        "\n",
        "- Each nested dictionary's key should be the genre of the song\n",
        "- Put each song in their respective genre"
      ]
    },
    {
      "cell_type": "markdown",
      "metadata": {
        "id": "bbY3Wx90ixeq"
      },
      "source": [
        "Example:\n",
        "\n",
        "\n",
        "|KEY|VALUE|\n",
        "|---|---|\n",
        "|Pop|{001, Baby}|\n",
        "|Rock|{001, Enter Sandman}|"
      ]
    },
    {
      "cell_type": "code",
      "execution_count": null,
      "metadata": {
        "id": "hXSFeKOvixeq",
        "colab": {
          "base_uri": "https://localhost:8080/"
        },
        "outputId": "6a5d8e52-33a4-4332-da5b-1dd6eee324ae"
      },
      "outputs": [
        {
          "output_type": "execute_result",
          "data": {
            "text/plain": [
              "{'Pop': {'001': 'Burnout',\n",
              "  '002': 'Abot Kamay',\n",
              "  '004': 'Tensionado',\n",
              "  '009': 'Languyin'},\n",
              " 'Rock': {'003': 'One Look',\n",
              "  '005': 'Yakap sa Dilim',\n",
              "  '010': 'Everybody Talks',\n",
              "  '011': \"Sugar, We're Going Down\"},\n",
              " 'Alternative': {'006': 'Ilaw sa Daan'},\n",
              " 'Alternative Rock': {'007': 'Prom'},\n",
              " 'Hip-hop': {'008': 'Manila'}}"
            ]
          },
          "metadata": {},
          "execution_count": 6
        }
      ],
      "source": [
        "song = {\n",
        "    \"Pop\" : {\n",
        "        \"001\" : \"Burnout\",\n",
        "        \"002\" : \"Abot Kamay\",\n",
        "        \"004\" : \"Tensionado\",\n",
        "        \"009\" : \"Languyin\"\n",
        "    },\n",
        "    \"Rock\" : {\n",
        "        \"003\" : \"One Look\",\n",
        "        \"005\" : \"Yakap sa Dilim\",\n",
        "        \"010\" : \"Everybody Talks\",\n",
        "        \"011\" : \"Sugar, We're Going Down\"\n",
        "    },\n",
        "    \"Alternative\" : {\n",
        "        \"006\" : \"Ilaw sa Daan\"\n",
        "    },\n",
        "    \"Alternative Rock\" : {\n",
        "        \"007\" : \"Prom\"\n",
        "    },\n",
        "    \"Hip-hop\" : {\n",
        "        \"008\" : \"Manila\"\n",
        "    }\n",
        "}\n",
        "\n",
        "song"
      ]
    },
    {
      "cell_type": "markdown",
      "metadata": {
        "id": "l8budZC7ixeq"
      },
      "source": [
        "#### 6. Print the first song of the first genre"
      ]
    },
    {
      "cell_type": "code",
      "execution_count": null,
      "metadata": {
        "id": "k4Xn8tsbixer",
        "colab": {
          "base_uri": "https://localhost:8080/"
        },
        "outputId": "788ec0ef-f442-43d8-b21b-d576f8b1e9f1"
      },
      "outputs": [
        {
          "output_type": "stream",
          "name": "stdout",
          "text": [
            "Burnout\n"
          ]
        }
      ],
      "source": [
        "print(song['Pop']['001'])"
      ]
    },
    {
      "cell_type": "markdown",
      "metadata": {
        "id": "ppPx7pvsixer"
      },
      "source": [
        "#### 7. Print the first song of the last genre"
      ]
    },
    {
      "cell_type": "code",
      "execution_count": null,
      "metadata": {
        "id": "E8NzoqaRixer",
        "colab": {
          "base_uri": "https://localhost:8080/"
        },
        "outputId": "5de0191b-ec91-4406-d170-74cb508ebb3a"
      },
      "outputs": [
        {
          "output_type": "stream",
          "name": "stdout",
          "text": [
            "Manila\n"
          ]
        }
      ],
      "source": [
        "print(song['Hip-hop']['008'])"
      ]
    }
  ],
  "metadata": {
    "kernelspec": {
      "display_name": "Python 3",
      "language": "python",
      "name": "python3"
    },
    "language_info": {
      "codemirror_mode": {
        "name": "ipython",
        "version": 3
      },
      "file_extension": ".py",
      "mimetype": "text/x-python",
      "name": "python",
      "nbconvert_exporter": "python",
      "pygments_lexer": "ipython3",
      "version": "3.11.4"
    },
    "orig_nbformat": 4,
    "colab": {
      "provenance": [],
      "include_colab_link": true
    }
  },
  "nbformat": 4,
  "nbformat_minor": 0
}